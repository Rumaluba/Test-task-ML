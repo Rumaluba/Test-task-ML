{
  "cells": [
    {
      "cell_type": "code",
      "execution_count": null,
      "metadata": {
        "id": "ciiIp2j7qpws"
      },
      "outputs": [],
      "source": [
        "!pip install lazypredict\n",
        "import pandas as pd\n",
        "import io\n",
        "from googleapiclient.http import MediaIoBaseDownload\n",
        "import matplotlib.pyplot as plt\n",
        "import seaborn as sns\n",
        "import math\n",
        "from sklearn import preprocessing\n",
        "from sklearn.model_selection import train_test_split\n",
        "from sklearn import metrics\n",
        "from lazypredict.Supervised import LazyRegressor\n",
        "from google.colab import files\n",
        "pd.reset_option"
      ]
    },
    {
      "cell_type": "code",
      "execution_count": null,
      "metadata": {
        "id": "4IQjxQ4Brb4V"
      },
      "outputs": [],
      "source": [
        "df = pd.read_csv('/content/skempi_v2.csv', sep=';')\n",
        "len(df.columns)"
      ]
    },
    {
      "cell_type": "code",
      "execution_count": null,
      "metadata": {
        "id": "orVj9HxD0LoA"
      },
      "outputs": [],
      "source": [
        "#удаляем все строки, в которых нет температуры или константы\n",
        "df = df.dropna(subset=['Temperature', 'Affinity_wt_parsed', 'Affinity_mut_parsed'])\n",
        "df = df.dropna(axis=1, thresh=len(df) * 0.8) #удаляем столбцы, в которых заполнено менее 80% данных\n",
        "df"
      ]
    },
    {
      "cell_type": "code",
      "execution_count": null,
      "metadata": {
        "id": "2bcvuCx_vL_2"
      },
      "outputs": [],
      "source": [
        "#кодируем наши данные\n",
        "for col in ['#Pdb', 'Mutation(s)_PDB', 'Mutation(s)_cleaned',\n",
        "                    'iMutation_Location(s)', 'Hold_out_proteins',\n",
        "                    'Protein 1', 'Protein 2', 'Method']:\n",
        "    freq = df[col].value_counts(normalize=True)\n",
        "    df[col] = df[col].map(freq)\n",
        "df"
      ]
    },
    {
      "cell_type": "code",
      "execution_count": null,
      "metadata": {
        "id": "ufgNBZe7CylM"
      },
      "outputs": [],
      "source": [
        "#вводим бинарные метки\n",
        "ddG=[]\n",
        "for index, row in df.iterrows():\n",
        "    #не стала домножать на температуру и R, так как на знак они не влияет\n",
        "    G=-math.log(row['Affinity_mut_parsed']/row['Affinity_wt_parsed'])\n",
        "    if G > 0:\n",
        "        ddG.append(1)\n",
        "    else:\n",
        "        ddG.append(0)\n",
        "df['ddG']=ddG\n",
        "df = df.drop(columns=[0, 1], errors='ignore')\n",
        "df"
      ]
    },
    {
      "cell_type": "code",
      "execution_count": null,
      "metadata": {
        "id": "_1wKm_bKQzis"
      },
      "outputs": [],
      "source": [
        "df.dtypes"
      ]
    },
    {
      "cell_type": "code",
      "execution_count": null,
      "metadata": {
        "id": "e0b4Zzb0SXqk"
      },
      "outputs": [],
      "source": [
        "#удалим всё, что не является числами, температуру переведем в числовой формат\n",
        "Temperature=[]\n",
        "Reference=[]\n",
        "df= df.drop(columns=['Affinity_mut (M)','Affinity_wt (M)', 'Reference'], errors='ignore')\n",
        "for i in df['Temperature']:\n",
        "    Temperature.append(float(i.split('(')[0]))\n",
        "df['Temperature']=Temperature\n",
        "df.dtypes"
      ]
    },
    {
      "cell_type": "code",
      "execution_count": null,
      "metadata": {
        "id": "j5Ktx-hhXx35"
      },
      "outputs": [],
      "source": [
        "#опционально, так как признаков и так осталось достаточно мало\n",
        "from sklearn.ensemble import RandomForestClassifier\n",
        "from sklearn.preprocessing import StandardScaler\n",
        "import shap\n",
        "\n",
        "X = df.drop(columns=['ddG'])  # Признаки\n",
        "y = df['ddG']                # Бинарная метка\n",
        "\n",
        "scaler = StandardScaler()\n",
        "X_scaled = scaler.fit_transform(X)\n",
        "\n",
        "# Random Forest для оценки важности признаков\n",
        "model_rf = RandomForestClassifier(random_state=42)\n",
        "model_rf.fit(X, y)\n",
        "importance = pd.DataFrame({'Feature': X.columns, 'Importance': model_rf.feature_importances_})\n",
        "print(importance.sort_values('Importance', ascending=False))\n",
        "\n",
        "# SHAP-анализ для интерпретируемости\n",
        "explainer = shap.TreeExplainer(model_rf)\n",
        "shap_values = explainer.shap_values(X)"
      ]
    },
    {
      "cell_type": "code",
      "execution_count": null,
      "metadata": {
        "id": "4YPc0ZfCY0KU"
      },
      "outputs": [],
      "source": [
        "from lazypredict.Supervised import LazyClassifier\n",
        "from sklearn.model_selection import train_test_split\n",
        "X = df.drop(columns=['ddG'])  # Признаки\n",
        "y = df['ddG']                # Целевая переменная\n",
        "\n",
        "# Разделение на тренировочную и тестовую выборки\n",
        "X_train, X_test, y_train, y_test = train_test_split(X, y, test_size=0.2, random_state=42)\n",
        "\n",
        "# Автоматическое обучение и сравнение моделей\n",
        "clf = LazyClassifier(verbose=0, ignore_warnings=True, custom_metric=None)\n",
        "models, predictions = clf.fit(X_train, X_test, y_train, y_test)\n",
        "\n",
        "# Вывод результатов (сортировка по 'Accuracy')\n",
        "print(models.sort_values('Accuracy', ascending=False))"
      ]
    },
    {
      "cell_type": "code",
      "source": [
        "#Посмотрим на обучпемость наших трех лидеров. Начнем с BaggingClassifer\n",
        "from sklearn.ensemble import BaggingClassifier\n",
        "from sklearn.metrics import confusion_matrix, f1_score\n",
        "from sklearn.metrics import confusion_matrix\n",
        "from sklearn.metrics import classification_report\n",
        "from sklearn.datasets import make_classification\n",
        "model = BaggingClassifier(n_estimators=100, random_state=42, max_samples=200)\n",
        "model.fit(X_train, y_train)\n",
        "y_pred = model.predict(X_test)\n",
        "cm = confusion_matrix(y_test, y_pred)\n",
        "sns.heatmap(cm, annot=True, fmt='d', cmap='Greens', annot_kws={'fontsize': 14})\n",
        "plt.ylabel('Истинные значения')\n",
        "plt.xlabel('Предсказанные значения')\n",
        "plt.title('Матрица ошибок', pad=15)\n",
        "plt.show()\n"
      ],
      "metadata": {
        "id": "sfubYcyvg3gN"
      },
      "execution_count": null,
      "outputs": []
    },
    {
      "cell_type": "code",
      "source": [
        "report = classification_report(y_test, model.predict(X_test))\n",
        "print(report)"
      ],
      "metadata": {
        "id": "IrDVXy8Zhynf"
      },
      "execution_count": null,
      "outputs": []
    },
    {
      "cell_type": "code",
      "source": [
        "#теперь XGBCClassifier\n",
        "import xgboost as xgb\n",
        "model = xgb.XGBClassifier()\n",
        "model.fit(X_train.values, y_train.values)\n",
        "y_pred_model = model.predict(X_test.values)\n",
        "cm = confusion_matrix(y_test, y_pred_model)\n",
        "sns.heatmap(cm, annot=True, fmt='d', cmap='Greens', annot_kws={'fontsize': 14})\n",
        "plt.ylabel('Истинные значения')\n",
        "plt.xlabel('Предсказанные значения')\n",
        "plt.title('Матрица ошибок', pad=15)\n",
        "plt.show()\n"
      ],
      "metadata": {
        "id": "rzSMWZoch6or"
      },
      "execution_count": null,
      "outputs": []
    },
    {
      "cell_type": "code",
      "source": [
        "report = classification_report(y_test, model.predict(X_test.values))\n",
        "print(report)"
      ],
      "metadata": {
        "id": "ErZIACQLj6KE"
      },
      "execution_count": null,
      "outputs": []
    },
    {
      "cell_type": "code",
      "source": [
        "import lightgbm as lgb\n",
        "from lightgbm import LGBMClassifier\n",
        "model = lgb.LGBMClassifier()\n",
        "model.fit(X_train.values, y_train.values)\n",
        "y_pred_model = model.predict(X_test.values)\n",
        "cm = confusion_matrix(y_test, y_pred_model)\n",
        "sns.heatmap(cm, annot=True, fmt='d', cmap='Greens', annot_kws={'fontsize': 14})\n",
        "plt.ylabel('Истинные значения')\n",
        "plt.xlabel('Предсказанные значения')\n",
        "plt.title('Матрица ошибок', pad=15)\n",
        "plt.show()"
      ],
      "metadata": {
        "id": "XGE731Vaj8o6"
      },
      "execution_count": null,
      "outputs": []
    },
    {
      "cell_type": "code",
      "source": [
        "report = classification_report(y_test, model.predict(X_test.values))\n",
        "print(report)"
      ],
      "metadata": {
        "id": "fftpmsaukKRA"
      },
      "execution_count": null,
      "outputs": []
    }
  ],
  "metadata": {
    "colab": {
      "provenance": []
    },
    "kernelspec": {
      "display_name": "Python 3",
      "name": "python3"
    },
    "language_info": {
      "name": "python"
    }
  },
  "nbformat": 4,
  "nbformat_minor": 0
}